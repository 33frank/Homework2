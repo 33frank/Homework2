{
 "cells": [
  {
   "cell_type": "markdown",
   "metadata": {},
   "source": [
    "### Homework Week 02\n",
    "#### Loops, Functions and Classes\n",
    "1. Do this homework **in order**. \n",
    "2. Be sure to have a solid understanding of Functions before working with Classes. "
   ]
  },
  {
   "cell_type": "markdown",
   "metadata": {},
   "source": [
    "1. Iterate through `integers_list` and `print` values that are multiples of 7."
   ]
  },
  {
   "cell_type": "code",
   "execution_count": 10,
   "metadata": {},
   "outputs": [
    {
     "name": "stdout",
     "output_type": "stream",
     "text": [
      "651\n",
      "679\n",
      "616\n",
      "182\n",
      "525\n",
      "427\n"
     ]
    }
   ],
   "source": [
    "import random\n",
    "integers_list = [random.randint(0,1000) for i in range(50)] # a list comprehension\n",
    "\n",
    "for integer in integers_list:\n",
    "    if integer % 7 == 0 and integer !=0: # avoiding 0 as it is not a multiple of 7. Maybe a diehard Mathematician can weigh in? \n",
    "        print(integer)"
   ]
  },
  {
   "cell_type": "markdown",
   "metadata": {},
   "source": [
    "2. Create `list` of 5 colors as `strings` which are all lowercase. \n",
    "Iterate through the `list` and capitalize each color. \n",
    "You should modify the `list` in place. "
   ]
  },
  {
   "cell_type": "code",
   "execution_count": 16,
   "metadata": {},
   "outputs": [
    {
     "name": "stdout",
     "output_type": "stream",
     "text": [
      "['Red', 'Orange', 'Yellow', 'Blue', 'Green']\n"
     ]
    }
   ],
   "source": [
    "colors = ['red','orange','yellow','blue','green']\n",
    "\n",
    "for index, color in enumerate(colors): \n",
    "    colors[index]= color.capitalize()\n",
    "\n",
    "print(colors)"
   ]
  },
  {
   "cell_type": "markdown",
   "metadata": {},
   "source": [
    "3. Loop through the string and eliminate all the asterisks."
   ]
  },
  {
   "cell_type": "code",
   "execution_count": 23,
   "metadata": {},
   "outputs": [
    {
     "name": "stdout",
     "output_type": "stream",
     "text": [
      "My computer has gone crazy and added extra symbols.\n"
     ]
    },
    {
     "data": {
      "text/plain": [
       "'My computer has gone crazy and added extra symbols.'"
      ]
     },
     "execution_count": 23,
     "metadata": {},
     "output_type": "execute_result"
    }
   ],
   "source": [
    "asterisk = 'My *compu*ter has go*ne craz***y an*d add*ed extra *symbols.*'\n",
    "\n",
    "# strings are not mutable. You must create a copy of the string or create a new one. \n",
    "asterisk2 = ''\n",
    "\n",
    "for char in asterisk:\n",
    "    if char == '*':\n",
    "        continue\n",
    "    else:\n",
    "        asterisk2 += char\n",
    "        \n",
    "print(asterisk2)\n",
    "\n",
    "#One-liner\n",
    "''.join([char for char in asterisk if char !='*'])"
   ]
  },
  {
   "cell_type": "markdown",
   "metadata": {},
   "source": [
    "4. Write a `while` loop that increments `counter` until it reaches 7."
   ]
  },
  {
   "cell_type": "code",
   "execution_count": 26,
   "metadata": {},
   "outputs": [
    {
     "name": "stdout",
     "output_type": "stream",
     "text": [
      "0\n",
      "1\n",
      "2\n",
      "3\n",
      "4\n",
      "5\n",
      "6\n",
      "7\n"
     ]
    }
   ],
   "source": [
    "counter = 0\n",
    "\n",
    "for i in range(8): # note range(8) not range(7)\n",
    "    print(i)\n",
    "    counter +=1"
   ]
  },
  {
   "cell_type": "markdown",
   "metadata": {},
   "source": [
    "5. Loop over `double_trouble` and eliminate any 'mosquito'."
   ]
  },
  {
   "cell_type": "code",
   "execution_count": 46,
   "metadata": {},
   "outputs": [
    {
     "name": "stdout",
     "output_type": "stream",
     "text": [
      "['cat', 'dog', ['mouse', 'bat'], ['elephant', 'dog', 'whale', 'lion', 32], 'bird', []]\n"
     ]
    }
   ],
   "source": [
    "double_trouble = ['cat', 'dog', ['mouse','mosquito','bat','mosquito'],['elephant','dog','whale','lion',32,'mosquito'],'bird',[],'mosquito']\n",
    "# many ways to do this. \n",
    "# I found this to be challenging.\n",
    "\n",
    "for first_index,element in enumerate(double_trouble):\n",
    "    if element == 'mosquito':\n",
    "        double_trouble.pop(first_index)\n",
    "    else:\n",
    "        for second_index, second_element in enumerate(element):\n",
    "            if second_element == 'mosquito':\n",
    "                double_trouble[first_index].pop(second_index)\n",
    "\n",
    "   \n",
    "    \n",
    "print(double_trouble)"
   ]
  },
  {
   "cell_type": "markdown",
   "metadata": {},
   "source": [
    "6. Loop through the dictionary of phone numbers and correct the parentheses. "
   ]
  },
  {
   "cell_type": "code",
   "execution_count": 174,
   "metadata": {},
   "outputs": [
    {
     "data": {
      "text/plain": [
       "{'Jill': '1-(555)-567-8910',\n",
       " 'Jen': '1-(555)-567-8910',\n",
       " 'Jan': '1-(555)-567-8910',\n",
       " 'Jane': '1-(555)-567-8910',\n",
       " 'Jerri': '1-(555)-567-8910'}"
      ]
     },
     "execution_count": 174,
     "metadata": {},
     "output_type": "execute_result"
    }
   ],
   "source": [
    "phone_numbers = {'Jill':'1-)555(-567-8910',\n",
    "                'Jen':'1-)555(-567-8910',\n",
    "                'Jan':'1-)555(-567-8910',\n",
    "                'Jane':'1-)555(-567-8910',\n",
    "                'Jerri':'1-)555(-567-8910'}\n",
    "\n",
    "for key,value in phone_numbers.items():\n",
    "    phone_numbers[key] = value.replace(')','(').replace('5(','5)')\n",
    "    \n",
    "phone_numbers"
   ]
  },
  {
   "cell_type": "markdown",
   "metadata": {},
   "source": [
    "7. Create a function that takes in two numbers.\n",
    "\n",
    "If the numbers are both even add them and `return` the result.\n",
    "\n",
    "If the numbers are odd, subtract the second number from the first and `return` the result.\n",
    "\n",
    "(Assume you'll always get integers)"
   ]
  },
  {
   "cell_type": "code",
   "execution_count": 66,
   "metadata": {},
   "outputs": [
    {
     "name": "stdout",
     "output_type": "stream",
     "text": [
      "4\n",
      "0\n",
      "None\n"
     ]
    }
   ],
   "source": [
    "def odd_even(num1,num2):\n",
    "    if num1 % 2 == 0 and num2 % 2 == 0:\n",
    "        return num1 + num2\n",
    "    elif num1 % 2 != 0 and num2 % 2 != 0:\n",
    "        return num1 - num2\n",
    "    else:\n",
    "        return None\n",
    "\n",
    "print(odd_even(2,2))\n",
    "print(odd_even(-3,-3))\n",
    "print(odd_even(3,2))"
   ]
  },
  {
   "cell_type": "markdown",
   "metadata": {},
   "source": [
    "8. Create a function that takes in a `string` and removes all non-alphanumeric characters."
   ]
  },
  {
   "cell_type": "code",
   "execution_count": 71,
   "metadata": {},
   "outputs": [
    {
     "name": "stdout",
     "output_type": "stream",
     "text": [
      "some234string2\n"
     ]
    }
   ],
   "source": [
    "# easy way to get the job done\n",
    "def alpha_num(string):\n",
    "\n",
    "    allowed = 'abcdefghijklmnopqrstuvwxyzABCDEFGHIJKLMNOPQRSTUVWXYZ0123456789'\n",
    "    \n",
    "    new_string_list = []\n",
    "    \n",
    "    for char in string:\n",
    "        if char in allowed:\n",
    "            new_string_list.append(char)\n",
    "            \n",
    "    new_string = ''.join(new_string_list)\n",
    "    \n",
    "    return new_string\n",
    "\n",
    "print(alpha_num('some234 string 2**)!@#$()'))\n"
   ]
  },
  {
   "cell_type": "code",
   "execution_count": 5,
   "metadata": {},
   "outputs": [
    {
     "data": {
      "text/plain": [
       "'somestring'"
      ]
     },
     "execution_count": 5,
     "metadata": {},
     "output_type": "execute_result"
    }
   ],
   "source": [
    "def alnum(string):\n",
    "    \n",
    "    string = \"\".join([char for char in string if char.isalnum()]) #oneliner\n",
    "    \n",
    "    return string\n",
    "\n",
    "alnum(\"some!@#$string\")\n"
   ]
  },
  {
   "cell_type": "code",
   "execution_count": 8,
   "metadata": {},
   "outputs": [
    {
     "data": {
      "text/plain": [
       "'somestring'"
      ]
     },
     "execution_count": 8,
     "metadata": {},
     "output_type": "execute_result"
    }
   ],
   "source": [
    "string = \"some@#$$@string\"\n",
    "while not string.isalnum():\n",
    "    for char in string:\n",
    "        if not char.isalnum():\n",
    "            string = string.replace(char,'')\n",
    "string"
   ]
  },
  {
   "cell_type": "code",
   "execution_count": 1,
   "metadata": {},
   "outputs": [
    {
     "data": {
      "text/plain": [
       "'somestringwithbadcharacters'"
      ]
     },
     "execution_count": 1,
     "metadata": {},
     "output_type": "execute_result"
    }
   ],
   "source": [
    "# another method\n",
    "\n",
    "def another_way(some_string):\n",
    "    \n",
    "    allowed = []\n",
    "    \n",
    "    for char in some_string:\n",
    "        if char.isalnum():\n",
    "            allowed.append(char)\n",
    "            \n",
    "    new_string = ''.join(allowed)\n",
    "    \n",
    "    return new_string\n",
    "\n",
    "another_way('some @#$!@#$ string with <>?:b#ad^characters')"
   ]
  },
  {
   "cell_type": "markdown",
   "metadata": {},
   "source": [
    "9. Create a function to convert Celsius to Farenheight and print the result. \n",
    "\n",
    "Bonus(Optional): Include the degree symbol in the output."
   ]
  },
  {
   "cell_type": "code",
   "execution_count": 1,
   "metadata": {},
   "outputs": [
    {
     "data": {
      "text/plain": [
       "'212.0°'"
      ]
     },
     "execution_count": 1,
     "metadata": {},
     "output_type": "execute_result"
    }
   ],
   "source": [
    "def c_to_f(temp):\n",
    "    f = temp*9/5 + 32\n",
    "    \n",
    "    f = str(f)\n",
    "    \n",
    "    degree_sign= u'\\N{DEGREE SIGN}'\n",
    "    \n",
    "    return f + degree_sign\n",
    "\n",
    "c_to_f(100)"
   ]
  },
  {
   "cell_type": "markdown",
   "metadata": {},
   "source": [
    "10. Create a function that prints the fibonacci sequence from 0 to 25. "
   ]
  },
  {
   "cell_type": "code",
   "execution_count": 59,
   "metadata": {},
   "outputs": [
    {
     "name": "stdout",
     "output_type": "stream",
     "text": [
      "0\n",
      "1\n",
      "1\n",
      "2\n",
      "3\n",
      "5\n",
      "8\n",
      "13\n",
      "21\n",
      "34\n",
      "55\n",
      "89\n",
      "144\n",
      "233\n",
      "377\n",
      "610\n",
      "987\n",
      "1597\n",
      "2584\n",
      "4181\n",
      "6765\n",
      "10946\n",
      "17711\n",
      "28657\n",
      "46368\n"
     ]
    }
   ],
   "source": [
    "def fibonacci(n):\n",
    "    num1 = 0\n",
    "    num2 = 0\n",
    "    \n",
    "        \n",
    "    for i in range(n):\n",
    "          \n",
    "        if i == 0:\n",
    "            print(0)\n",
    "            num1 =0\n",
    "            num2 = 1\n",
    "        elif i == 1:\n",
    "            print(1)\n",
    "            num1 =  0\n",
    "            num2 = 1\n",
    "            \n",
    "        else:\n",
    "            \n",
    "            print(num1 + num2)\n",
    "            next_ = num1 + num2 # next is a reserved word so we add an underscore\n",
    "            \n",
    "            num1 = num2\n",
    "            num2 = next_\n",
    "\n",
    "fibonacci(25)"
   ]
  },
  {
   "cell_type": "markdown",
   "metadata": {},
   "source": [
    "11. Create two functions. One function that accepts args `a` and `b` and returns `a + b`. \n",
    "\n",
    "Create a second function that accepts the first function as the 3rd argument as well as a and b.\n"
   ]
  },
  {
   "cell_type": "code",
   "execution_count": 69,
   "metadata": {},
   "outputs": [
    {
     "data": {
      "text/plain": [
       "11"
      ]
     },
     "execution_count": 69,
     "metadata": {},
     "output_type": "execute_result"
    }
   ],
   "source": [
    "# you do the first function\n",
    "\n",
    "# second function\n",
    "# Here's some starter code to avoid confusion.\n",
    "# Functions can be passed around like any other object. \n",
    "\n",
    "def first_function(a,b):\n",
    "    return a + b\n",
    "\n",
    "def second_function(c,d,some_function):\n",
    "    result = some_function(c,d)\n",
    "    return result\n",
    "\n",
    "second_function(2,9, first_function)"
   ]
  },
  {
   "cell_type": "code",
   "execution_count": null,
   "metadata": {},
   "outputs": [],
   "source": []
  },
  {
   "cell_type": "markdown",
   "metadata": {},
   "source": [
    "12. Create a function that prints prime number from 0 to 100. "
   ]
  },
  {
   "cell_type": "code",
   "execution_count": 85,
   "metadata": {},
   "outputs": [
    {
     "name": "stdout",
     "output_type": "stream",
     "text": [
      "0\n",
      "1\n",
      "2\n",
      "3\n",
      "5\n",
      "7\n",
      "11\n",
      "13\n",
      "17\n",
      "19\n",
      "23\n"
     ]
    }
   ],
   "source": [
    "def is_prime(n):\n",
    "    \n",
    "    for i in range(n):\n",
    "        prime = True # assume is prime until we find out it's not prime\n",
    "        for j in range(2,i): # loop through all numbers and check if it divides evenly\n",
    "            if i % j == 0: # if it divides evenly it's not prime\n",
    "                prime = False\n",
    "                break # we can exit the loop early. If one tests fails it's not a prime.\n",
    "            \n",
    "        if prime: # if prime passes all the tests it's prime\n",
    "            print(i)\n",
    "        \n",
    "        \n",
    "is_prime(25)"
   ]
  },
  {
   "cell_type": "markdown",
   "metadata": {},
   "source": [
    "13. Now's your chance to show off. Create a function that does something that has not already been done in the homework. Get creative. "
   ]
  },
  {
   "cell_type": "code",
   "execution_count": 89,
   "metadata": {},
   "outputs": [
    {
     "name": "stdout",
     "output_type": "stream",
     "text": [
      "[(0.27311228304147905, 0.2559326273990836), (0.5044086548709606, 0.910808284152586), (0.22332530911099568, 0.15377348041311711)]\n"
     ]
    }
   ],
   "source": [
    "import random \n",
    "\n",
    "def wow(n):\n",
    "    random_points = [(random.random(),random.random()) for x in range(n)]\n",
    "    \n",
    "    print(random_points)\n",
    "    \n",
    "    \n",
    "wow(3)"
   ]
  },
  {
   "cell_type": "markdown",
   "metadata": {},
   "source": [
    "14. Add an attribute called `age` to the `__init__` method of the `Person` class.\n",
    "\n",
    "Create an instance of `Person()` and print the `age`."
   ]
  },
  {
   "cell_type": "code",
   "execution_count": 94,
   "metadata": {},
   "outputs": [
    {
     "data": {
      "text/plain": [
       "32"
      ]
     },
     "execution_count": 94,
     "metadata": {},
     "output_type": "execute_result"
    }
   ],
   "source": [
    "class Person():\n",
    "    \n",
    "    def __init__(self, name, occupation, country,age):\n",
    "        self.name = name\n",
    "        self.occupation = occupation\n",
    "        self.country = country\n",
    "        self.age = age\n",
    "\n",
    "matt = Person('Matt', 'Programmer', 'USA',32)\n",
    "matt.age"
   ]
  },
  {
   "cell_type": "markdown",
   "metadata": {},
   "source": [
    "15. Creat an instance of the class `Candy`. \n",
    "\n",
    "Add an attribute called `cost` on your instance. (Don't modify the class starter code.)\n",
    "\n",
    "Print the instance's `cost` attribute.\n",
    "\n",
    "Bonus(optional): Add a function of your choice to the instance. "
   ]
  },
  {
   "cell_type": "code",
   "execution_count": 96,
   "metadata": {},
   "outputs": [],
   "source": [
    "class Candy():\n",
    "    \n",
    "    def __init__(self, kind='chocolate', brand= 'Nestle', caramel = False):\n",
    "        self.type = kind\n",
    "        self.brand = brand\n",
    "        self.caramel = caramel\n",
    "        "
   ]
  },
  {
   "cell_type": "code",
   "execution_count": 100,
   "metadata": {},
   "outputs": [
    {
     "data": {
      "text/plain": [
       "1.23"
      ]
     },
     "execution_count": 100,
     "metadata": {},
     "output_type": "execute_result"
    }
   ],
   "source": [
    "candy_instance = Candy()\n",
    "\n",
    "candy_instance.cost = 1.23 # you can assign attributes outside of the class \n",
    "candy_instance.cost"
   ]
  },
  {
   "cell_type": "markdown",
   "metadata": {},
   "source": [
    "16. Add an instance method to our class `Greet` that prints a greeting including `greeting` and the `name`. \n",
    "\n",
    "Example:\n",
    "\n",
    "`jen = Greet()`\n",
    "\n",
    "`jen.greet_method()` returns `\"Hello Jennifer\"`\n"
   ]
  },
  {
   "cell_type": "code",
   "execution_count": 106,
   "metadata": {},
   "outputs": [
    {
     "data": {
      "text/plain": [
       "'Hello Jennifer'"
      ]
     },
     "execution_count": 106,
     "metadata": {},
     "output_type": "execute_result"
    }
   ],
   "source": [
    "class Greet():\n",
    "    \n",
    "    def __init__(self, name='Jennifer', language='english', greeting=\"Hello\"):\n",
    "        \n",
    "        self.language = language\n",
    "        self.greeting = greeting\n",
    "        self.name = name\n",
    "        \n",
    "    def speak(self):\n",
    "        return self.greeting + ' ' + self.name\n",
    "\n",
    "jen = Greet()\n",
    "\n",
    "jen.speak()"
   ]
  },
  {
   "cell_type": "markdown",
   "metadata": {},
   "source": [
    "17. Add a line to the follwing code that will increment `employee_count` by 1 for **all** instances of `Employee`.\n",
    "\n",
    "The code should run each time an new instance of`Employee` is created. \n",
    "\n",
    "Hint: You don't need methods. Just a single expression will work. And it does NOT inlcude the word `self`. "
   ]
  },
  {
   "cell_type": "code",
   "execution_count": 109,
   "metadata": {},
   "outputs": [
    {
     "name": "stdout",
     "output_type": "stream",
     "text": [
      "1\n",
      "2\n",
      "2\n"
     ]
    }
   ],
   "source": [
    "class Employee():\n",
    "    \n",
    "    # class variables. Applies to all instances of this class during creation.\n",
    "    yearly_bonus = 1.01 # not used anywhere in this example\n",
    "    \n",
    "    employee_count = 0 # This variable will change for all instances of the class.\n",
    "    \n",
    "       \n",
    "    def __init__(self,name, age, base_pay): # creates an instance of our object with unique attributes\n",
    "        \n",
    "        self.name = name\n",
    "        self.age = age\n",
    "        self.base_pay = base_pay\n",
    "        \n",
    "        \n",
    "        Employee.employee_count += 1\n",
    "        \n",
    "        \n",
    "emp1 = Employee('Matt', 32,40000)\n",
    "print(emp1.employee_count) # should be 1 if the __init__ method is working properly. \n",
    "\n",
    "emp2 = emp1 = Employee('Joe', 22,50000) # should be 2 if the __init__ method is working properly. \n",
    "print(emp2.employee_count)\n",
    "\n",
    "print(emp1.employee_count) # should be 2 if the __init__ method is working properly. \n"
   ]
  },
  {
   "cell_type": "markdown",
   "metadata": {},
   "source": [
    "18 . Add a `static` method of your choice to the class below. \n",
    "\n",
    "Instaiate an object and call your method. \n",
    "\n",
    "What is a static method anyway? \n"
   ]
  },
  {
   "cell_type": "code",
   "execution_count": 114,
   "metadata": {},
   "outputs": [
    {
     "name": "stdout",
     "output_type": "stream",
     "text": [
      "Meryl Streep: This is my line...\n",
      "Meryl Streep is 71.\n"
     ]
    }
   ],
   "source": [
    "class actress():\n",
    "    def __init__(self, name = 'Meryl Streep'):\n",
    "        self.name = name\n",
    "        \n",
    "    def act(self, line):\n",
    "        print(f'{self.name}: {line}')\n",
    "    \n",
    "    @staticmethod\n",
    "    def age():\n",
    "        print(\"Meryl Streep is 71.\")\n",
    "        \n",
    "meryl = actress()\n",
    "meryl.act('This is my line...')\n",
    "meryl.age()"
   ]
  },
  {
   "cell_type": "code",
   "execution_count": null,
   "metadata": {},
   "outputs": [],
   "source": []
  },
  {
   "cell_type": "markdown",
   "metadata": {},
   "source": [
    "19. Create a `class` called Car that accepts 3 attributes (make, model and year). \n",
    "\n",
    "In the `__init__` method give your instance those three attributes. \n",
    "\n",
    "Instantiate (create) an object that is your dream car. \n",
    "\n",
    "Print the make of your dream car using the object attributes. \n",
    "\n",
    "Then call the dir() method on your new object. (See your attrs are now included!)"
   ]
  },
  {
   "cell_type": "code",
   "execution_count": 117,
   "metadata": {},
   "outputs": [
    {
     "name": "stdout",
     "output_type": "stream",
     "text": [
      "Ford\n"
     ]
    },
    {
     "data": {
      "text/plain": [
       "['__class__',\n",
       " '__delattr__',\n",
       " '__dict__',\n",
       " '__dir__',\n",
       " '__doc__',\n",
       " '__eq__',\n",
       " '__format__',\n",
       " '__ge__',\n",
       " '__getattribute__',\n",
       " '__gt__',\n",
       " '__hash__',\n",
       " '__init__',\n",
       " '__init_subclass__',\n",
       " '__le__',\n",
       " '__lt__',\n",
       " '__module__',\n",
       " '__ne__',\n",
       " '__new__',\n",
       " '__reduce__',\n",
       " '__reduce_ex__',\n",
       " '__repr__',\n",
       " '__setattr__',\n",
       " '__sizeof__',\n",
       " '__str__',\n",
       " '__subclasshook__',\n",
       " '__weakref__',\n",
       " 'make',\n",
       " 'model',\n",
       " 'year']"
      ]
     },
     "execution_count": 117,
     "metadata": {},
     "output_type": "execute_result"
    }
   ],
   "source": [
    "class Car():\n",
    "    def __init__(self,make, model, year):\n",
    "        \n",
    "        self.make = make\n",
    "        self.model = model\n",
    "        self.year = year\n",
    "        \n",
    "dream_car = Car('Ford','Mustang','1968')\n",
    "\n",
    "print(dream_car.make)\n",
    "dir(dream_car)"
   ]
  },
  {
   "cell_type": "markdown",
   "metadata": {},
   "source": [
    "20. Create a class called `Dice` that accepts a single argument called `number_of_dice`. \n",
    "\n",
    "Create an instance method called `roll`. \n",
    "\n",
    "`roll` should randomly pick a number for each die when called and print the results as a list. \n",
    "\n",
    "Create an instance of `Dice`. Then call `roll()` on your instance.\n",
    "\n",
    "Hint: Inside your class create an empty list called `dice`."
   ]
  },
  {
   "cell_type": "code",
   "execution_count": 7,
   "metadata": {},
   "outputs": [
    {
     "name": "stdout",
     "output_type": "stream",
     "text": [
      "[3, 3, 5, 6, 2]\n"
     ]
    },
    {
     "data": {
      "text/plain": [
       "[1, 5, 4, 2, 5, 4]"
      ]
     },
     "execution_count": 7,
     "metadata": {},
     "output_type": "execute_result"
    }
   ],
   "source": [
    "# Helpful starter code\n",
    "from random import randrange\n",
    "\n",
    "#print(randrange(1,7)) # randomly generates a number between 1 and 6\n",
    "\n",
    "class Dice():\n",
    "    \n",
    "    def __init__(self, num_dice):\n",
    "        self.num_dice = num_dice\n",
    "        self.last_roll = []\n",
    "        \n",
    "    def roll(self):\n",
    "        self.last_roll = []\n",
    "        for die in range(self.num_dice):\n",
    "            self.last_roll.append(randrange(1,7))\n",
    "            \n",
    "        return self.last_roll\n",
    "\n",
    "dice5 = Dice(5)\n",
    "print(dice5.roll())\n",
    "\n",
    "dice6 = Dice(6)\n",
    "\n",
    "dice6.roll()\n",
    "\n",
    "dice6.last_roll"
   ]
  },
  {
   "cell_type": "code",
   "execution_count": null,
   "metadata": {},
   "outputs": [],
   "source": []
  },
  {
   "cell_type": "code",
   "execution_count": null,
   "metadata": {},
   "outputs": [],
   "source": []
  },
  {
   "cell_type": "markdown",
   "metadata": {},
   "source": [
    "Bonus(optional):\n",
    "\n",
    "0. Create a class of your choice.\n",
    "1. Give it instance variables and class variables. \n",
    "2. Give it a classmethod. \n",
    "3. Give it a regular method (instance method).\n",
    "4. Give it a static method. \n",
    "\n",
    "Show how each works by printing an example. "
   ]
  },
  {
   "cell_type": "code",
   "execution_count": 180,
   "metadata": {},
   "outputs": [
    {
     "name": "stdout",
     "output_type": "stream",
     "text": [
      "935.02\n",
      "1135.02\n",
      "3\n",
      "Learn Python the Hard Way, by: John Smith, cost the library $19.99\n",
      "['Learn Python the Hard Way', 'SQL in 20 Minutes', 'Apple a Day']\n",
      "3\n"
     ]
    }
   ],
   "source": [
    "import webbrowser\n",
    "\n",
    "class Book():\n",
    "    \n",
    "    # class variables\n",
    "    collection_count = 0 # nunmber of books in our collection\n",
    "    library_funds = 1000 # money we have for buying books\n",
    "    collection = [] # list of books in our collection\n",
    "    \n",
    "    def __init__(self,title, author, ISBN, cost): # create a Book object\n",
    "        \n",
    "        # instance variables\n",
    "        self.title = title \n",
    "        self.author = author\n",
    "        self.ISBN = ISBN\n",
    "        self.cost = cost\n",
    "        \n",
    "        # change our class variables\n",
    "        Book.library_funds -= cost # reduce our library funds by the cost of the book\n",
    "        Book.collection_count +=1 # add to our  collection count\n",
    "        Book.collection.append(title) # add book title to our collection\n",
    "        \n",
    "    @classmethod # classmethod. Only uses class variables. Applies to all instances of Book. \n",
    "    def funds(cls,funding):\n",
    "        cls.library_funds += funding\n",
    "        \n",
    "    def info(self): # regular method (instance method)\n",
    "        \n",
    "        return f'{self.title}, by: {self.author}, cost the library ${self.cost}'\n",
    "    \n",
    "    @staticmethod # static mehtods do not rely on instance variables or class variables. But have related functionality. \n",
    "    def nearest_library():\n",
    "        \"\"\"Search the web for the nearest library.\"\"\"\n",
    "        webbrowser.open('https://www.google.com/search?channel=fs&client=ubuntu&q=nearest+library', new=0)\n",
    "        \n",
    "    @classmethod # classmethod. Only uses class variables. Applies to all instances of Book. \n",
    "    def sort_books(cls):\n",
    "        \n",
    "        cls.collection.sort() # sort the collection (sort is an inplace operation)\n",
    "        return cls.collection\n",
    "    \n",
    "\n",
    "python = Book('Learn Python the Hard Way', 'John Smith', '694868464', 19.99) # create book\n",
    "\n",
    "sql = Book('SQL in 20 Minutes', 'Jane Doe', '98468468468', 32.99) # create book\n",
    "\n",
    "apple = Book('Apple a Day','Bill Brown', '123456789', 12.00)\n",
    "\n",
    "print(Book.library_funds) # funds decrease\n",
    "Book.funds(200) # add some money to our library\n",
    "\n",
    "print(Book.library_funds)\n",
    "\n",
    "print(Book.collection_count) # we have 2 books in our library\n",
    "\n",
    "print(python.info())\n",
    "\n",
    "# sql.nearest_library() # Search Google to find nearest library. \n",
    "print(Book.collection)\n",
    "Book.sort_books()\n",
    "print(Book.collection_count) # Books are now sorted"
   ]
  },
  {
   "cell_type": "code",
   "execution_count": null,
   "metadata": {},
   "outputs": [],
   "source": []
  },
  {
   "cell_type": "code",
   "execution_count": null,
   "metadata": {},
   "outputs": [],
   "source": []
  }
 ],
 "metadata": {
  "kernelspec": {
   "display_name": "Python 3",
   "language": "python",
   "name": "python3"
  },
  "language_info": {
   "codemirror_mode": {
    "name": "ipython",
    "version": 3
   },
   "file_extension": ".py",
   "mimetype": "text/x-python",
   "name": "python",
   "nbconvert_exporter": "python",
   "pygments_lexer": "ipython3",
   "version": "3.8.2"
  }
 },
 "nbformat": 4,
 "nbformat_minor": 4
}
